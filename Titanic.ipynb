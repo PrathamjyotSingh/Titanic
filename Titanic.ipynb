{
 "cells": [
  {
   "cell_type": "code",
   "execution_count": 1,
   "id": "01909fc7",
   "metadata": {},
   "outputs": [],
   "source": [
    "import pandas as pd\n",
    "from sklearn import preprocessing\n",
    "from sklearn.model_selection import train_test_split, cross_val_score, GridSearchCV\n",
    "from sklearn.linear_model import LogisticRegression\n",
    "from sklearn.pipeline import Pipeline\n",
    "from sklearn.impute import SimpleImputer\n",
    "from sklearn.preprocessing import StandardScaler, OneHotEncoder\n",
    "from sklearn.compose import ColumnTransformer\n",
    "from sklearn.metrics import accuracy_score, precision_score, recall_score, roc_auc_score\n"
   ]
  },
  {
   "cell_type": "code",
   "execution_count": 2,
   "id": "a257e5ac",
   "metadata": {},
   "outputs": [],
   "source": [
    "train = pd.read_csv('train.csv')\n",
    "test = pd.read_csv('test.csv')\n",
    "test_ids = test[\"PassengerId\"]"
   ]
  },
  {
   "cell_type": "code",
   "execution_count": null,
   "id": "8da3ac17",
   "metadata": {},
   "outputs": [],
   "source": [
    "\n",
    "# Check available columns\n",
    "print(\"Train columns:\", train.columns)\n",
    "print(\"Test columns:\", test.columns)\n",
    "\n",
    "# Drop columns that are present\n",
    "cols_to_drop = [\"Ticket\", \"Cabin\", \"Name\", \"PassengerId\"]\n",
    "\n",
    "# Only drop columns that exist in the DataFrame\n",
    "train = train.drop(columns=[col for col in cols_to_drop if col in train.columns], axis=1)\n",
    "test = test.drop(columns=[col for col in cols_to_drop if col in test.columns], axis=1)\n",
    "\n",
    "\n",
    "y=train[\"Survived\"]\n",
    "X=train.drop(\"Survived\",axis=1)\n",
    "\n",
    "\n"
   ]
  },
  {
   "cell_type": "code",
   "execution_count": null,
   "id": "5169e65a",
   "metadata": {},
   "outputs": [],
   "source": [
    "# Encode categorical variables\n",
    "le = preprocessing.LabelEncoder()\n",
    "cols = [\"Sex\", \"Embarked\"]\n",
    "for col in cols:\n",
    "    train[col] = le.fit_transform(train[col])\n",
    "    test[col] = le.transform(test[col])\n",
    "    print(f\"Classes for {col}: {le.classes_}\")"
   ]
  },
  {
   "cell_type": "code",
   "execution_count": 91,
   "id": "15f3c9d7",
   "metadata": {},
   "outputs": [],
   "source": [
    "\n",
    "# Preprocessing Pipelines\n",
    "numeric_features = [\"SibSp\", \"Parch\", \"Age\", \"Fare\"]\n",
    "numeric_transformer = Pipeline(steps=[\n",
    "    ('imputer', SimpleImputer(strategy='median')),\n",
    "    ('scaler', StandardScaler())\n",
    "])\n",
    "\n",
    "categorical_features = [\"Sex\", \"Embarked\"]\n",
    "categorical_transformer = Pipeline(steps=[\n",
    "    ('imputer', SimpleImputer(strategy='constant', fill_value='U')),\n",
    "    ('onehot', OneHotEncoder(handle_unknown='ignore'))\n",
    "])\n",
    "# Combine transformers\n",
    "preprocessor = ColumnTransformer(\n",
    "    transformers=[\n",
    "        ('num', numeric_transformer, numeric_features),\n",
    "        ('cat', categorical_transformer, categorical_features)\n",
    "    ])\n"
   ]
  },
  {
   "cell_type": "code",
   "execution_count": 92,
   "id": "52606c1e",
   "metadata": {},
   "outputs": [
    {
     "name": "stdout",
     "output_type": "stream",
     "text": [
      "   Survived  Pclass  Sex   Age  SibSp  Parch     Fare  Embarked\n",
      "0         0       3    1  22.0      1      0   7.2500         2\n",
      "1         1       1    0  38.0      1      0  71.2833         0\n",
      "2         1       3    0  26.0      0      0   7.9250         2\n",
      "3         1       1    0  35.0      1      0  53.1000         2\n",
      "4         0       3    1  35.0      0      0   8.0500         2\n",
      "   Pclass  Sex   Age  SibSp  Parch     Fare  Embarked\n",
      "0       3    1  34.5      0      0   7.8292         1\n",
      "1       3    0  47.0      1      0   7.0000         2\n",
      "2       2    1  62.0      0      0   9.6875         1\n",
      "3       3    1  27.0      0      0   8.6625         2\n",
      "4       3    0  22.0      1      1  12.2875         2\n"
     ]
    }
   ],
   "source": [
    "print(train.head())\n",
    "print(test.head())\n",
    "train.isnull.sum()"
   ]
  },
  {
   "cell_type": "code",
   "execution_count": 93,
   "id": "e7f8fbeb",
   "metadata": {},
   "outputs": [
    {
     "name": "stdout",
     "output_type": "stream",
     "text": [
      "Cross-validation accuracy: 0.7890\n",
      "Accuracy: 0.7877\n",
      "Precision: 0.7727\n",
      "Recall: 0.6892\n",
      "ROC-AUC: 0.7732\n",
      "Best params: {'classifier__C': 1, 'classifier__solver': 'liblinear'}\n",
      "Best cross-validation accuracy: 0.7893\n",
      "Final Accuracy with best model: 0.7877\n"
     ]
    }
   ],
   "source": [
    "# Define the model\n",
    "model = LogisticRegression(max_iter=100)\n",
    "\n",
    "# Create a pipeline that combines preprocessing and modeling\n",
    "clf = Pipeline(steps=[('preprocessor', preprocessor),\n",
    "                      ('classifier', model)])\n",
    "\n",
    "# Use cross-validation to evaluate the model\n",
    "cv_scores = cross_val_score(clf, X, y, cv=5, scoring='accuracy')\n",
    "print(f'Cross-validation accuracy: {cv_scores.mean():.4f}')\n",
    "\n",
    "# Train-test split\n",
    "X_train, X_test, y_train, y_test = train_test_split(X, y, test_size=0.2, random_state=42)\n",
    "clf.fit(X_train, y_train)\n",
    "\n",
    "# Predict on the test set\n",
    "y_pred = clf.predict(X_test)\n",
    "\n",
    "# Evaluate the model\n",
    "accuracy = accuracy_score(y_test, y_pred)\n",
    "precision = precision_score(y_test, y_pred)\n",
    "recall = recall_score(y_test, y_pred)\n",
    "roc_auc = roc_auc_score(y_test, y_pred)\n",
    "\n",
    "print(f'Accuracy: {accuracy:.4f}')\n",
    "print(f'Precision: {precision:.4f}')\n",
    "print(f'Recall: {recall:.4f}')\n",
    "print(f'ROC-AUC: {roc_auc:.4f}')\n",
    "\n",
    "# Hyperparameter tuning with GridSearchCV\n",
    "param_grid = {\n",
    "    'classifier__C': [0.1, 1, 10, 100],\n",
    "    'classifier__solver': ['liblinear', 'lbfgs']\n",
    "}\n",
    "\n",
    "grid_search = GridSearchCV(clf, param_grid, cv=5, scoring='accuracy')\n",
    "grid_search.fit(X_train, y_train)\n",
    "\n",
    "print(f'Best params: {grid_search.best_params_}')\n",
    "print(f'Best cross-validation accuracy: {grid_search.best_score_:.4f}')\n",
    "\n",
    "# Use the best model to predict the test set\n",
    "best_model = grid_search.best_estimator_\n",
    "y_pred_best = best_model.predict(X_test)\n",
    "\n",
    "# Final evaluation\n",
    "final_accuracy = accuracy_score(y_test, y_pred_best)\n",
    "print(f'Final Accuracy with best model: {final_accuracy:.4f}')"
   ]
  },
  {
   "cell_type": "code",
   "execution_count": 74,
   "id": "aa87239c",
   "metadata": {},
   "outputs": [],
   "source": [
    "predictions = clf.predict(test)"
   ]
  },
  {
   "cell_type": "code",
   "execution_count": 75,
   "id": "8df87674",
   "metadata": {},
   "outputs": [],
   "source": [
    "df = pd.DataFrame({\n",
    "    \"PassengerId\":test_ids.values,\n",
    "    \"Survived\":predictions\n",
    "})"
   ]
  },
  {
   "cell_type": "code",
   "execution_count": 76,
   "id": "0c8398f6",
   "metadata": {},
   "outputs": [],
   "source": [
    "df.to_csv(\"titanicsubmission2.csv\",index=False)"
   ]
  },
  {
   "cell_type": "code",
   "execution_count": 34,
   "id": "75c9a783",
   "metadata": {},
   "outputs": [],
   "source": [
    "import pickle\n",
    "\n",
    "filename='titanic2.pkl'\n",
    "pickle.dump(clf,open(filename,'wb'))"
   ]
  }
 ],
 "metadata": {
  "kernelspec": {
   "display_name": "Python 3 (ipykernel)",
   "language": "python",
   "name": "python3"
  },
  "language_info": {
   "codemirror_mode": {
    "name": "ipython",
    "version": 3
   },
   "file_extension": ".py",
   "mimetype": "text/x-python",
   "name": "python",
   "nbconvert_exporter": "python",
   "pygments_lexer": "ipython3",
   "version": "3.10.9"
  }
 },
 "nbformat": 4,
 "nbformat_minor": 5
}
